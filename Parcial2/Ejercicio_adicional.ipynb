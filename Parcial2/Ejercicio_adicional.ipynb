{
 "cells": [
  {
   "cell_type": "markdown",
   "metadata": {},
   "source": [
    "**7.**\n"
   ]
  },
  {
   "cell_type": "code",
   "execution_count": 57,
   "metadata": {},
   "outputs": [
    {
     "name": "stdout",
     "output_type": "stream",
     "text": [
      "2.093025799618051\n"
     ]
    }
   ],
   "source": [
    "import numpy as np\n",
    "\n",
    "n = 200\n",
    "\n",
    "coord = np.arange(-1,1,2/(n+1))\n",
    "\n",
    "x,y = np.meshgrid(coord,coord)\n",
    "\n",
    "area = (2/(n+1))**2\n",
    "\n",
    "z = []\n",
    "\n",
    "for i in range(n+1):\n",
    "    z.append([])\n",
    "    for j in range(n+1):\n",
    "        z[i].append(0)\n",
    "        if(x[i][j]**2 + y[i][j]**2 < 1):\n",
    "            z[i][j] = np.sqrt(1 -x[i][j]**2 - y[i][j]**2)\n",
    "        else:\n",
    "            z[i][j] = 0\n",
    " \n",
    "I = 0\n",
    "\n",
    "for i in range(n-1):\n",
    "    for j in range(n-1):\n",
    "        prom = (z[i][j] + z[i+1][j] + z[i][j+1] + z[i+1][j+1])/4 * area \n",
    "        I += prom\n",
    "\n",
    "print(I)\n"
   ]
  },
  {
   "cell_type": "markdown",
   "metadata": {},
   "source": [
    "**10**"
   ]
  },
  {
   "cell_type": "markdown",
   "metadata": {},
   "source": [
    "**18**"
   ]
  },
  {
   "cell_type": "code",
   "execution_count": null,
   "metadata": {},
   "outputs": [],
   "source": [
    "import sympy as sym\n",
    "\n",
    "x = sym.symbols(\"x\",real=True)\n",
    "h = sym.symbols(\"h\",real=True)\n",
    "f = sym.symbols(\"f\",real=True)\n",
    "z = sym.symbols(\"z\",real=True)\n",
    "\n",
    "funcion = (x)*(x-h)*(x-2*h)*(x-3*h)\n",
    "\n",
    "integral = sym.integrate(func,x)\n",
    "integral = (integral.subs(x,3*h) - integral.subs(x,0)) * ((f**4*(z))/(4*3*2*1))\n",
    "\n",
    "print(integral)"
   ]
  },
  {
   "cell_type": "code",
   "execution_count": 61,
   "metadata": {},
   "outputs": [],
   "source": [
    "import sympy as sym\n",
    "\n",
    "x = sym.Symbol('x',real=True)\n",
    "\n",
    "def GetHermite(n,x):\n",
    "    if(n == 0):\n",
    "        return 1\n",
    "    if(n == 1):\n",
    "        return 2*x\n",
    "    he = GetHermite(n-1,x)\n",
    "    difhe = sym.diff(he)\n",
    "    return (2*x*GetHermite(n-1,x))-difhe\n",
    "\n",
    "def GetDHermite(n,x):\n",
    "    Pn = GetHermite(n,x)\n",
    "    return sym.diff(Pn,x,1)\n",
    "\n",
    "def GetNewton(f,df,xn,itmax=10000,precision=1e-14):\n",
    "    \n",
    "    error = 1.\n",
    "    it = 0\n",
    "    \n",
    "    while error >= precision and it < itmax:\n",
    "        \n",
    "        try:\n",
    "            \n",
    "            xn1 = xn - f(xn)/df(xn)\n",
    "            \n",
    "            error = np.abs(f(xn)/df(xn))\n",
    "            \n",
    "        except ZeroDivisionError:\n",
    "            print('Zero Division')\n",
    "            \n",
    "        xn = xn1\n",
    "        it += 1\n",
    "        \n",
    "    if it == itmax:\n",
    "        return False\n",
    "    else:\n",
    "        return xn\n",
    "\n",
    "\n",
    "def GetRootsGHer(f,df,x,tolerancia = 14):\n",
    "    \n",
    "    Roots = np.array([])\n",
    "    \n",
    "    for i in x:\n",
    "        \n",
    "        root = GetNewton(f,df,i)\n",
    "    \n",
    "        croot = np.round( root, tolerancia )\n",
    "        \n",
    "        if croot not in Roots:\n",
    "            Roots = np.append(Roots, croot)\n",
    "                \n",
    "    Roots.sort()\n",
    "    \n",
    "    return Roots\n",
    "\n",
    "\n",
    "def GetAllRootsGHer(n):\n",
    "    xn = np.linspace(-np.sqrt(4*n+1),np.sqrt(4*n+1),100)\n",
    "\n",
    "    Hermite = []\n",
    "    DHermite = []\n",
    "\n",
    "    for i in range(n+1):\n",
    "        Hermite.append(GetHermite(i,x))\n",
    "        DHermite.append(GetDHermite(i,x))\n",
    "    \n",
    "    poly = sym.lambdify([x],Hermite[n],'numpy')\n",
    "    Dpoly = sym.lambdify([x],DHermite[n],'numpy')\n",
    "    Roots = GetRootsGHer(poly,Dpoly,xn)\n",
    "    \n",
    "    return Roots\n",
    "\n",
    "def GetWeightsGHer(n):\n",
    "    Roots = GetAllRootsGHer(n)\n",
    "\n",
    "    Hermite = []\n",
    "    \n",
    "    for i in range(n+2):\n",
    "        Hermite.append(GetHermite(i,x))\n",
    "    \n",
    "    poly = sym.lambdify([x],Hermite[n-1],'numpy')\n",
    "    Weights = (2**(n-1)*np.math.factorial(n)*np.sqrt(np.pi))/(n**2*(poly(Roots)**2))\n",
    "    return Weights\n",
    "\n",
    "raices = GetAllRootsGHer(20)\n",
    "pesos = GetWeightsGHer(20)\n",
    "\n",
    "print(\"RAICES: \" + str(raices))\n",
    "print(\"PESOS: \" + str(pesos))\n",
    "\n"
   ]
  },
  {
   "cell_type": "markdown",
   "metadata": {},
   "source": [
    "**18.b**\n",
    "\n",
    "Realizando el reemplazo en la fórmula de probabilidad se obtiene\n",
    "\n",
    "$\\Psi (x) = \\left(\\frac{4}{\\pi} \\right )^{1/4}xe^{-x^2/2}$\n",
    "\n",
    "Por lo que la integral queda de la forma:\n",
    "\n",
    "$I = \\left(\\frac{4}{\\pi} \\right )^{1/4} \\int_{-\\infty}^{\\infty} x^4 e^{-x^2} dx$\n",
    "\n",
    "Usando gauss hermite:\n",
    "\n"
   ]
  },
  {
   "cell_type": "code",
   "execution_count": null,
   "metadata": {},
   "outputs": [],
   "source": [
    "I = 0\n",
    "\n",
    "funcion = lambda x: x**4\n",
    "\n",
    "for i in range(20):\n",
    "    I += pesos[i]*funcion(raices[i])\n",
    "\n",
    "print(I)"
   ]
  }
 ],
 "metadata": {
  "kernelspec": {
   "display_name": "base",
   "language": "python",
   "name": "python3"
  },
  "language_info": {
   "codemirror_mode": {
    "name": "ipython",
    "version": 3
   },
   "file_extension": ".py",
   "mimetype": "text/x-python",
   "name": "python",
   "nbconvert_exporter": "python",
   "pygments_lexer": "ipython3",
   "version": "3.9.7"
  },
  "orig_nbformat": 4
 },
 "nbformat": 4,
 "nbformat_minor": 2
}
