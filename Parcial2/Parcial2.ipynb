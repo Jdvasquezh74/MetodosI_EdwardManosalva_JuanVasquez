{
 "cells": [
  {
   "cell_type": "markdown",
   "metadata": {},
   "source": [
    "**PARCIAL 2**\n",
    "\n",
    "**24**\n"
   ]
  },
  {
   "cell_type": "code",
   "execution_count": 2,
   "metadata": {},
   "outputs": [
    {
     "name": "stdout",
     "output_type": "stream",
     "text": [
      "0.7886360406075117\n",
      "6.49393940221959\n",
      "0.12144185397510185\n"
     ]
    }
   ],
   "source": [
    "import numpy as np\n",
    "import sympy as sym\n",
    "\n",
    "n = 20\n",
    "\n",
    "h = 6.626*10**(-34)\n",
    "k = 1.3806*10**(-23)\n",
    "c = 3*10**8\n",
    "t = 5772\n",
    "l0 = 100 * 10**(-9)\n",
    "l1 = 400 * 10**(-9)\n",
    "\n",
    "v0 = c/l0\n",
    "v1 = c/l1\n",
    "\n",
    "limsup = h*v1/(k*t)\n",
    "liminf = h*v0/(k*t)\n",
    "\n",
    "def funnum(x):\n",
    "    return x**3/(np.e**x-1)\n",
    "\n",
    "def funden(x):\n",
    "    return x**3/(np.e**x-1)*np.e**x\n",
    "\n",
    "def integralnum(f,n,a,b):\n",
    "    raices, pesos = np.polynomial.legendre.leggauss(n)\n",
    "    I = 0\n",
    "    for i in range(n):\n",
    "        I += pesos[i]*f(0.5*(raices[i]*(b-a)+a+b))\n",
    "    \n",
    "    I = I*(b-a)/2\n",
    "    return I\n",
    "\n",
    "def integralden(f,n):\n",
    "    raices, pesos = np.polynomial.laguerre.laggauss(n)\n",
    "    I = 0\n",
    "\n",
    "    for i in range(n):\n",
    "        I += pesos[i]*f(raices[i])\n",
    "    return I\n",
    "\n",
    "NUMERADOR = integralnum(funnum,n,limsup,liminf)\n",
    "DENOMINADOR = integralden(funden,n)\n",
    "\n",
    "f = NUMERADOR/DENOMINADOR\n",
    "\n",
    "print(NUMERADOR)\n",
    "print(DENOMINADOR)\n",
    "print(f)\n",
    "\n",
    "\n"
   ]
  },
  {
   "cell_type": "markdown",
   "metadata": {},
   "source": [
    "**25**"
   ]
  },
  {
   "cell_type": "code",
   "execution_count": null,
   "metadata": {},
   "outputs": [
    {
     "ename": "",
     "evalue": "",
     "output_type": "error",
     "traceback": [
      "\u001b[1;31mThe Kernel crashed while executing code in the the current cell or a previous cell. Please review the code in the cell(s) to identify a possible cause of the failure. Click <a href='https://aka.ms/vscodeJupyterKernelCrash'>here</a> for more info. View Jupyter <a href='command:jupyter.viewOutput'>log</a> for further details."
     ]
    }
   ],
   "source": [
    "x = sym.Symbol('x',real=True)\n",
    "\n",
    "p2 = 1/2*(x**2-4*x+2)\n",
    "\n",
    "print(p2)\n"
   ]
  }
 ],
 "metadata": {
  "kernelspec": {
   "display_name": "base",
   "language": "python",
   "name": "python3"
  },
  "language_info": {
   "codemirror_mode": {
    "name": "ipython",
    "version": 3
   },
   "file_extension": ".py",
   "mimetype": "text/x-python",
   "name": "python",
   "nbconvert_exporter": "python",
   "pygments_lexer": "ipython3",
   "version": "3.9.7"
  },
  "orig_nbformat": 4
 },
 "nbformat": 4,
 "nbformat_minor": 2
}
