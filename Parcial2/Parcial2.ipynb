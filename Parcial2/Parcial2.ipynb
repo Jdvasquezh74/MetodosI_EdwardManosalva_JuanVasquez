{
 "cells": [
  {
   "cell_type": "markdown",
   "metadata": {},
   "source": [
    "**PARCIAL 2**\n",
    "\n",
    "**24**\n"
   ]
  },
  {
   "cell_type": "code",
   "execution_count": 6,
   "metadata": {},
   "outputs": [
    {
     "name": "stdout",
     "output_type": "stream",
     "text": [
      "0.7886360406075117\n",
      "6.49393940221959\n",
      "0.12144185397510185\n"
     ]
    }
   ],
   "source": [
    "import numpy as np\n",
    "import sympy as sym\n",
    "\n",
    "n = 20\n",
    "\n",
    "h = 6.626*10**(-34)\n",
    "k = 1.3806*10**(-23)\n",
    "c = 3*10**8\n",
    "t = 5772\n",
    "l0 = 100 * 10**(-9)\n",
    "l1 = 400 * 10**(-9)\n",
    "\n",
    "v0 = c/l0\n",
    "v1 = c/l1\n",
    "\n",
    "limsup = h*v1/(k*t)\n",
    "liminf = h*v0/(k*t)\n",
    "\n",
    "def funnum(x):\n",
    "    return x**3/(np.e**x-1)\n",
    "\n",
    "def funden(x):\n",
    "    return x**3/(np.e**x-1)*np.e**x\n",
    "\n",
    "def integralnum(f,n,a,b):\n",
    "    raices, pesos = np.polynomial.legendre.leggauss(n)\n",
    "    I = 0\n",
    "    for i in range(n):\n",
    "        I += pesos[i]*f(0.5*(raices[i]*(b-a)+a+b))\n",
    "    \n",
    "    I = I*(b-a)/2\n",
    "    return I\n",
    "\n",
    "def integralden(f,n):\n",
    "    raices, pesos = np.polynomial.laguerre.laggauss(n)\n",
    "    I = 0\n",
    "\n",
    "    for i in range(n):\n",
    "        I += pesos[i]*f(raices[i])\n",
    "    return I\n",
    "\n",
    "NUMERADOR = integralnum(funnum,n,limsup,liminf)\n",
    "DENOMINADOR = integralden(funden,n)\n",
    "\n",
    "f = NUMERADOR/DENOMINADOR\n",
    "\n",
    "print(NUMERADOR)\n",
    "print(DENOMINADOR)\n",
    "print(f)\n",
    "\n",
    "\n"
   ]
  },
  {
   "cell_type": "markdown",
   "metadata": {},
   "source": [
    "Da diferente por que los limites de integración son diferentes a los reales, eso se aprecia en la gráfica. :3"
   ]
  },
  {
   "cell_type": "markdown",
   "metadata": {},
   "source": [
    "**25**"
   ]
  },
  {
   "cell_type": "code",
   "execution_count": 24,
   "metadata": {},
   "outputs": [
    {
     "name": "stdout",
     "output_type": "stream",
     "text": [
      "[0.58578644 3.41421356]\n"
     ]
    }
   ],
   "source": [
    "x = sym.Symbol('x',real=True)\n",
    "\n",
    "p2 = 1/2*(x**2-4*x+2)\n",
    "\n",
    "dp2 = sym.diff(p2,x,1)\n",
    "\n",
    "def GetNewton(f,df,xn,itmax=10000,precision=1e-14):\n",
    "    \n",
    "    error = 1.\n",
    "    it = 0\n",
    "    \n",
    "    while error >= precision and it < itmax:\n",
    "        \n",
    "        try:\n",
    "            \n",
    "            xn1 = xn - f(xn)/df(xn)\n",
    "            \n",
    "            error = np.abs(f(xn)/df(xn))\n",
    "            \n",
    "        except ZeroDivisionError:\n",
    "            print('Zero Division')\n",
    "            \n",
    "        xn = xn1\n",
    "        it += 1\n",
    "        \n",
    "    if it == itmax:\n",
    "        return False\n",
    "    else:\n",
    "        return xn\n",
    "\n",
    "def GetRoots(f,df,x,tolerancia = 14):\n",
    "    \n",
    "    Roots = np.array([])\n",
    "    \n",
    "    for i in x:\n",
    "        \n",
    "        root = GetNewton(f,df,i)\n",
    "    \n",
    "        croot = np.round( root, tolerancia )\n",
    "        \n",
    "        if croot not in Roots:\n",
    "            Roots = np.append(Roots, croot)\n",
    "                \n",
    "    Roots.sort()\n",
    "    \n",
    "    return Roots\n",
    "\n",
    "\n",
    "xn = np.linspace(0,2+(2-1)*np.sqrt(2),100)\n",
    "\n",
    "\n",
    "poly = sym.lambdify(x,p2,'numpy')\n",
    "Dpoly = sym.lambdify(x,dp2,'numpy')\n",
    "Roots = GetRoots(poly,Dpoly,xn)\n",
    "\n",
    "print(Roots)\n",
    "\n",
    "\n",
    "\n",
    "\n"
   ]
  },
  {
   "cell_type": "markdown",
   "metadata": {},
   "source": [
    "c)"
   ]
  },
  {
   "cell_type": "code",
   "execution_count": 29,
   "metadata": {},
   "outputs": [
    {
     "name": "stdout",
     "output_type": "stream",
     "text": [
      "[0.85355339 0.14644661]\n"
     ]
    }
   ],
   "source": [
    "y = sym.exp(-x)*x**3\n",
    "\n",
    "nextpoly = sym.exp(x)*sym.diff(y,x,3)/np.math.factorial(3)\n",
    "nextpoly = sym.lambdify(x,nextpoly,'numpy')\n",
    "Weights = Roots/(((2+1)**2)*(nextpoly(Roots))**2)\n",
    "print(Weights)"
   ]
  },
  {
   "cell_type": "markdown",
   "metadata": {},
   "source": [
    "d)"
   ]
  },
  {
   "cell_type": "code",
   "execution_count": 30,
   "metadata": {},
   "outputs": [
    {
     "name": "stdout",
     "output_type": "stream",
     "text": [
      "5.999999999999968\n"
     ]
    }
   ],
   "source": [
    "f = lambda x: x**3\n",
    "I = 0\n",
    "\n",
    "for i in range(2):\n",
    "    I += Weights[i]*f(Roots[i])\n",
    "print (I)"
   ]
  }
 ],
 "metadata": {
  "kernelspec": {
   "display_name": "base",
   "language": "python",
   "name": "python3"
  },
  "language_info": {
   "codemirror_mode": {
    "name": "ipython",
    "version": 3
   },
   "file_extension": ".py",
   "mimetype": "text/x-python",
   "name": "python",
   "nbconvert_exporter": "python",
   "pygments_lexer": "ipython3",
   "version": "3.9.7"
  },
  "orig_nbformat": 4
 },
 "nbformat": 4,
 "nbformat_minor": 2
}
