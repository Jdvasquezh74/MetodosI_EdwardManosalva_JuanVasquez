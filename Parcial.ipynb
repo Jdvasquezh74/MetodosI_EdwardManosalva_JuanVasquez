{
 "cells": [
  {
   "cell_type": "markdown",
   "metadata": {},
   "source": [
    "**a)** $f(x) = e^{-x} - x$\n",
    "\n",
    "Para la función los coeficientes del método de muller quedan:\n",
    "\n",
    "\n",
    "**b)** Teorema de Boltzano:\n",
    "\n",
    "El teorema de Boltzano establece que para un intervalo cerrado [a,b] cuyas imágenes f(a) y f(b) tengan signos opuestos, existe un punto c entre a y b cuya imagen f(c) = 0.\n",
    "\n",
    "Para este caso se seleccionaron los valores $x_0 = -1$ y $x_1 = 1$ puesto que $f(x_1) = \\frac{1}{e} - 1 < 0$ y $f(x_0) = e+ 1 > 0$, lo cuál cumple con las caracterísiticas para el intérvalo del teorema $[x_0, x_1]$.\n",
    "\n",
    "**c)** $x_2 = 0$ Puesto que es el punto medio entre $x_0 = -1$ y $x_1 = 1$.\n",
    "\n",
    "**d)** x_3:\n",
    "\n",
    "\n"
   ]
  },
  {
   "cell_type": "code",
   "execution_count": 2,
   "metadata": {},
   "outputs": [
    {
     "name": "stdout",
     "output_type": "stream",
     "text": [
      "0.567143290409865\n",
      "-1.2712053631958042e-13\n"
     ]
    }
   ],
   "source": [
    "import numpy as np\n",
    "\n",
    "def func(x):\n",
    "    return np.exp(-x) - x\n",
    "\n",
    "def dif_div(x0,x1):\n",
    "    return (func(x1) - func(x0))/(x1-x0)\n",
    "\n",
    "def dif_div_triple(x0,x1,x2):\n",
    "    dif2 = dif_div(x0,x1)\n",
    "    dif1 = dif_div(x1,x2)\n",
    "    return (dif2-dif1)/(x2-x0)\n",
    "\n",
    "x0 = -1\n",
    "x1 = 1\n",
    "x2 = 0\n",
    "\n",
    "a = dif_div_triple(x0,x1,x2)\n",
    "b = dif_div(x0,x1) -(x0+x1)*a\n",
    "c = func(x0) - x0*dif_div(x0,x1) + x1*x0*a\n",
    "\n",
    "if(b < 0):\n",
    "    x3 = (-2*c)/(b - np.sqrt(b**2-4*a*c))\n",
    "elif(b > 0):\n",
    "    x3 = (-2*c)/(b + np.sqrt(b**2-4*a*c))\n",
    "\n",
    "i = 0\n",
    "while (abs(func(x3)) > (1*10**(-10))) and ((i < 100)):\n",
    "    x0 = x1\n",
    "    x1 = x2\n",
    "    x2 = x3\n",
    "    a = dif_div_triple(x0,x1,x2)\n",
    "    b = dif_div(x0,x1) -(x0+x1)*a\n",
    "    c = func(x0) - x0*dif_div(x0,x1) + x1*x0*a\n",
    "\n",
    "    if(b < 0):\n",
    "        x3 = (-2*c)/(b - np.sqrt(b**2-4*a*c))\n",
    "    elif(b > 0):\n",
    "        x3 = (-2*c)/(b + np.sqrt(b**2-4*a*c))\n",
    "    i += 1\n",
    "print(x3)\n",
    "print(func(x3))"
   ]
  },
  {
   "cell_type": "markdown",
   "metadata": {},
   "source": [
    "**f)** La raíz de la función es entonces 0.56714"
   ]
  }
 ],
 "metadata": {
  "kernelspec": {
   "display_name": "base",
   "language": "python",
   "name": "python3"
  },
  "language_info": {
   "codemirror_mode": {
    "name": "ipython",
    "version": 3
   },
   "file_extension": ".py",
   "mimetype": "text/x-python",
   "name": "python",
   "nbconvert_exporter": "python",
   "pygments_lexer": "ipython3",
   "version": "3.9.7"
  },
  "orig_nbformat": 4
 },
 "nbformat": 4,
 "nbformat_minor": 2
}
