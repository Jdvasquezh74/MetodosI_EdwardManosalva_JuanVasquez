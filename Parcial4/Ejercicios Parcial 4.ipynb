{
 "cells": [
  {
   "cell_type": "markdown",
   "metadata": {},
   "source": [
    "## Sección 7.8 Generales de probabilidad\n",
    "\n",
    "8. Se lanzan simultáneamente 4 monedas. Determine la probabilidad de obtener dos caras y dos sellos $\\mathbb{P}(A) = 3/8$. Realice el cálculo de esta probabilidad usando un experimento virtual con $N = 10^{5}$ eventos, y etiquetando los resultados con $+1$ y $-1$ para cara y sello respectivamente."
   ]
  },
  {
   "cell_type": "code",
   "execution_count": 125,
   "metadata": {},
   "outputs": [
    {
     "data": {
      "text/plain": [
       "0.3762"
      ]
     },
     "execution_count": 125,
     "metadata": {},
     "output_type": "execute_result"
    }
   ],
   "source": [
    "import numpy as np\n",
    "import random\n",
    "\n",
    "N = 10**5\n",
    "\n",
    "doscaras_dossellos = 0\n",
    "\n",
    "for i in range(N):\n",
    "    cara_sello = np.zeros(4)\n",
    "    for i in range(4):\n",
    "        cara_sello[i] = random.choice([-1,1])\n",
    "    if sum(cara_sello)==0:\n",
    "        doscaras_dossellos +=1 \n",
    "round(doscaras_dossellos/N,4)"
   ]
  },
  {
   "cell_type": "markdown",
   "metadata": {},
   "source": [
    "## Sección 7.12 Distribuciones continuas de probabilidad\n",
    "\n",
    "1. Dada la función de probabilidad conjunta:\n",
    "\n",
    "\\begin{equation*}\n",
    "f(x,y) = \\left \\{ \\begin{aligned} \\frac{2}{3}(x+2y) &\\ 0 \\leq x \\leq 1,0 \\leq y \\leq 1 \\\\ 0 \\ &(\\text{en otro caso})\n",
    "\\end{aligned} \n",
    "\\right .\n",
    "\\end{equation*}\n",
    "\n",
    "encuentre analíticamente y a través del paquete SymPy los siguientes valores:\n",
    "\n",
    "a) Verifique que sea una función de densidad conjunta válida.\n",
    "\n",
    "b) Hallar las distribuciones marginales g(x) y h(y).\n",
    "\n",
    "c) $\\mathbb{E}(x) = \\frac{10}{18}$\n",
    "\n",
    "d) $\\mathbb{E}(y) = \\frac{11}{18}$\n",
    "\n",
    "e) Calcular la covarianza usando: $\\sigma_{xy} = \\mathbb{E}(xy) - \\mathbb{E}(x)\\mathbb{E}(y) = -0.00617$\n",
    "\n",
    "f) Calcular la covarianza usando: $\\sigma_{xy} = \\mathbb{E}((x-\\hat{\\mu}_x)(y-\\hat{\\mu}_y)) = -0.00617$\n",
    "\n",
    "g) Son las variables x e y independientes?"
   ]
  },
  {
   "cell_type": "code",
   "execution_count": 82,
   "metadata": {},
   "outputs": [
    {
     "data": {
      "text/latex": [
       "$\\displaystyle \\begin{cases} 0.666666666666667 x + 1.33333333333333 y & \\text{for}\\: x \\geq 0 \\wedge y \\geq 0 \\wedge x \\leq 1 \\wedge y \\leq 1 \\\\0 & \\text{otherwise} \\end{cases}$"
      ],
      "text/plain": [
       "Piecewise((0.666666666666667*x + 1.33333333333333*y, (x >= 0) & (y >= 0) & (x <= 1) & (y <= 1)), (0, True))"
      ]
     },
     "execution_count": 82,
     "metadata": {},
     "output_type": "execute_result"
    }
   ],
   "source": [
    "from scipy.integrate import quad\n",
    "import sympy as sym\n",
    "\n",
    "x = sym.Symbol('x',real=True)\n",
    "y = sym.Symbol('y',real=True)\n",
    "\n",
    "fxy = sym.Piecewise(((2/3)*(x+2*y),(x>=0)&(x <=1)&(y>=0)&(y<=1)),(0,True))\n",
    "fxy"
   ]
  },
  {
   "cell_type": "code",
   "execution_count": 83,
   "metadata": {},
   "outputs": [
    {
     "data": {
      "text/latex": [
       "$\\displaystyle 1.0$"
      ],
      "text/plain": [
       "1.00000000000000"
      ]
     },
     "execution_count": 83,
     "metadata": {},
     "output_type": "execute_result"
    }
   ],
   "source": [
    "#a)\n",
    "dfxy = sym.integrate(fxy,(x,0,1),(y,0,1))\n",
    "dfxy"
   ]
  },
  {
   "cell_type": "code",
   "execution_count": 84,
   "metadata": {},
   "outputs": [
    {
     "data": {
      "text/latex": [
       "$\\displaystyle \\begin{cases} 0.666666666666667 x + 0.666666666666667 & \\text{for}\\: x \\geq 0 \\wedge x \\leq 1 \\\\0 & \\text{otherwise} \\end{cases}$"
      ],
      "text/plain": [
       "Piecewise((0.666666666666667*x + 0.666666666666667, (x >= 0) & (x <= 1)), (0, True))"
      ]
     },
     "execution_count": 84,
     "metadata": {},
     "output_type": "execute_result"
    }
   ],
   "source": [
    "#b)\n",
    "gx = sym.integrate(fxy,(y,-sym.oo,sym.oo))\n",
    "gx"
   ]
  },
  {
   "cell_type": "code",
   "execution_count": 85,
   "metadata": {},
   "outputs": [
    {
     "data": {
      "text/latex": [
       "$\\displaystyle \\begin{cases} 1.33333333333333 y + 0.333333333333333 & \\text{for}\\: y \\geq 0 \\wedge y \\leq 1 \\\\0 & \\text{otherwise} \\end{cases}$"
      ],
      "text/plain": [
       "Piecewise((1.33333333333333*y + 0.333333333333333, (y >= 0) & (y <= 1)), (0, True))"
      ]
     },
     "execution_count": 85,
     "metadata": {},
     "output_type": "execute_result"
    }
   ],
   "source": [
    "hy = sym.integrate(fxy,(x,-sym.oo,sym.oo))\n",
    "hy"
   ]
  },
  {
   "cell_type": "code",
   "execution_count": 112,
   "metadata": {},
   "outputs": [
    {
     "data": {
      "text/latex": [
       "$\\displaystyle 0.555555555555556$"
      ],
      "text/plain": [
       "0.555555555555556"
      ]
     },
     "execution_count": 112,
     "metadata": {},
     "output_type": "execute_result"
    }
   ],
   "source": [
    "#c)\n",
    "Ex = sym.integrate(x*gx,(x,-sym.oo,sym.oo))\n",
    "Ex"
   ]
  },
  {
   "cell_type": "code",
   "execution_count": 113,
   "metadata": {},
   "outputs": [
    {
     "data": {
      "text/latex": [
       "$\\displaystyle 0.611111111111111$"
      ],
      "text/plain": [
       "0.611111111111111"
      ]
     },
     "execution_count": 113,
     "metadata": {},
     "output_type": "execute_result"
    }
   ],
   "source": [
    "#d)\n",
    "Ey = sym.integrate(y*hy,(y,-sym.oo,sym.oo))\n",
    "Ey"
   ]
  },
  {
   "cell_type": "code",
   "execution_count": 119,
   "metadata": {},
   "outputs": [
    {
     "data": {
      "text/latex": [
       "$\\displaystyle 0$"
      ],
      "text/plain": [
       "0"
      ]
     },
     "execution_count": 119,
     "metadata": {},
     "output_type": "execute_result"
    }
   ],
   "source": [
    "#e)\n",
    "Exy = sym.integrate(x*y*gx*hy,(x,-sym.oo,sym.oo),(y,-sym.oo,sym.oo))\n",
    "Exy-Ex*Ey"
   ]
  },
  {
   "cell_type": "code",
   "execution_count": 115,
   "metadata": {},
   "outputs": [
    {
     "data": {
      "text/latex": [
       "$\\displaystyle 0.00617283950617281$"
      ],
      "text/plain": [
       "0.00617283950617281"
      ]
     },
     "execution_count": 115,
     "metadata": {},
     "output_type": "execute_result"
    }
   ],
   "source": [
    "#f)\n",
    "sym.integrate((x-Ex)*(y-Ey),(x,0,1),(y,0,1))"
   ]
  },
  {
   "cell_type": "code",
   "execution_count": 121,
   "metadata": {},
   "outputs": [
    {
     "name": "stdout",
     "output_type": "stream",
     "text": [
      "Sí son independientes.\n"
     ]
    }
   ],
   "source": [
    "#g)\n",
    "print(\"Sí son independientes.\")"
   ]
  },
  {
   "cell_type": "markdown",
   "metadata": {},
   "source": [
    "## Sección 7.18 Hidden Markov models\n",
    "\n",
    "1. Un casino tiene dos tipos de monedas una justa $(J)$ y una sesgada $(B)$, las probabilidades de obtener cara y sello son: $\\mathbb{P}_J=[0.5,0.5]$ y $\\mathbb{P}_B=[0.9,0.1]$ respectivamente. El tipo de moneda se escoge siguiendo esta ley de transición: \n",
    "\n",
    "\\begin{equation*}\n",
    "\\mathbb{T} = \\begin{pmatrix}\n",
    " & J & B\\\\\n",
    "J & 0.8 & 0.2\\\\\n",
    "B & 0.2 & 0.8\n",
    "\\end{pmatrix}\n",
    "\\end{equation*}\n",
    "\n",
    "Por otro lado, la matriz de emisión está dada por:\n",
    "\n",
    "\\begin{equation*}\n",
    "\\mathbb{E} = \\begin{pmatrix}\n",
    " & J & B\\\\\n",
    "S & 0.5 & 0.9\\\\\n",
    "C & 0.5 & 0.1\n",
    "\\end{pmatrix}\n",
    "\\end{equation*}\n",
    "\n",
    "Se realiza un experimento de 8 lanzamientos y se obtiene la siguiente secuencia:\n",
    "\n",
    "\\begin{equation*}\n",
    "\\Omega_O = [S,C,C,C,S,C,S,C]\n",
    "\\end{equation*}\n",
    "\n",
    "a) Use la siguiente distribución de probabilidad a-priori $\\pi = [0.2,0.8]$ para la moneda justa y sesgada.\n",
    "\n",
    "b) Encuentre la secuencia oculta más probable del tipo de moneda que se eligió en cada lanzamiento y su respectiva probabilidad $\\mathbb{P}_i$.\n",
    "\n",
    "c) Calcule las probabilidades de cada estado observable $(o)$ como la suma de las\n",
    "probabilidades de todos los estados ocultos, $\\mathbb{P}_o=\\sum_i\\mathbb{P}_i$.\n",
    "\n",
    "d) Verifique que la suma de todos los estados observables es 1.\n",
    "\n",
    "\\begin{equation*}\n",
    "\\sum\\mathbb{P}_o = 1\n",
    "\\end{equation*}\n",
    "\n",
    "e) ¿Depende el resultado de cada probabilidad a-priori?"
   ]
  },
  {
   "cell_type": "code",
   "execution_count": 63,
   "metadata": {},
   "outputs": [
    {
     "name": "stdout",
     "output_type": "stream",
     "text": [
      "BBBBBBBB CCCCCCCC\n"
     ]
    }
   ],
   "source": [
    "import numpy as np\n",
    "#a)\n",
    "\n",
    "pi = np.array([0.2,0.8])\n",
    "T = np.array([[0.8,0.2],\\\n",
    "              [0.2,0.8],\\\n",
    "             ])\n",
    "E = np.array([[0.5,0.9],\\\n",
    "              [0.5,0.1],\\\n",
    "             ])\n",
    "\n",
    "#b)\n",
    "Dict_coin = { 0: 'J', 1: 'B'}\n",
    "Dict_ht = { 0: 'C', 1: 'S'}\n",
    "\n",
    "def GetStates(Tansition,Emition,T,N=int(8)):\n",
    "    \n",
    "    coin_type = \"\"\n",
    "    heads_tails = \"\"\n",
    "    States = np.array(Tansition)\n",
    "    \n",
    "    for i in range(N):\n",
    "        T = np.dot(T,Tansition)\n",
    "        States = np.vstack((States,T))\n",
    "        index = np.where(np.amax(T)==T)[0]\n",
    "        \n",
    "        coin = Dict_coin[index[0]]\n",
    "        coin_type = coin_type + coin\n",
    "\n",
    "        if coin == 'J':\n",
    "            index = np.where(np.amax(Emition[:,0])==Emition[:,0])[0]\n",
    "        else:\n",
    "            index = np.where(np.amax(Emition[:,1])==Emition[:,1])[0]\n",
    "        ht_iteration = Dict_ht[index[0]]\n",
    "        heads_tails = heads_tails + ht_iteration \n",
    "\n",
    "        \n",
    "    return coin_type,heads_tails,States\n",
    "\n",
    "coin_type,heads_tails, States = GetStates(T,E,pi)\n",
    "print(coin_type,heads_tails)\n",
    "\n",
    "#c)\n",
    "\n",
    "#d)\n",
    "\n",
    "#e)"
   ]
  },
  {
   "cell_type": "markdown",
   "metadata": {},
   "source": [
    "## Sección 9.4 Mínimos Cuadrados\n",
    "\n",
    "1. Realice una búsqueda iterativa entre $-5\\leq x \\leq 5$ y $-5 \\leq y \\leq 5$ con un paso de $h = 0.01$ para encontrar la menor distancia del problema. Grafique la distancia y compare con el resultado obtenido con mínimos cuadrados."
   ]
  },
  {
   "cell_type": "code",
   "execution_count": null,
   "metadata": {},
   "outputs": [],
   "source": []
  },
  {
   "cell_type": "markdown",
   "metadata": {},
   "source": [
    "7. Calcule la proyección ortogonal del vector $\\vec{b} = (-3,-3,8,9)$ sobre el sub-espacio W generado por los vectores:\n",
    "\n",
    "\\begin{align*}\n",
    "\\vec{u_1}&=(3,1,0,1)\\\\\n",
    "\\vec{u_2}&=(1,2,1,1)\\\\\n",
    "\\vec{u_3}&=(-1,0,2,-1)\n",
    "\\end{align*}\n",
    "\n",
    "a) Usando mínimos cuadrados matriciales. La proyección ortogonal es $p_W(b)=Ax$, donde las columnas de A son los vectores base y x es la solución de mínimos cuadrados.\n",
    "\n",
    "b) Con el proceso de Grand-Schmidt obtener una base ortonormal $(v_1,v_2,v_3)$ y luego calcular la proyección sobre dicha base: $p_W(b)=c_1v_1+c_2v_2+c_3v_3$, donde $c_i=<b.v_i>$ para $i=1,2,3$. Respuesta: $p_W(b)=(-2,3,4,0)$\n",
    "\n",
    "Recuerde que el procedimiento de Grand-Schmidt es:\n",
    "\n",
    "\\begin{equation*}\n",
    "u_k = v_k-\\sum^{k-1}_{j=1}\\frac{<v_k,u_j>}{<u_j,u_j>}u_j\n",
    "\\end{equation*}"
   ]
  },
  {
   "cell_type": "code",
   "execution_count": 64,
   "metadata": {},
   "outputs": [
    {
     "name": "stdout",
     "output_type": "stream",
     "text": [
      "[-2.0000000e+00  3.0000000e+00  4.0000000e+00 -4.4408921e-16]\n",
      "[-13.61765675   9.42223981  14.25980207  -1.56926957]\n"
     ]
    }
   ],
   "source": [
    "import numpy as np\n",
    "#a)\n",
    "u1=[3,1,0,1]\n",
    "u2=[1,2,1,1]\n",
    "u3=[-1,0,2,-1]\n",
    "A = np.array([u1,u2,u3]).T\n",
    "b = np.array([-3,-3,8,9])\n",
    "\n",
    "At = A.T\n",
    "M = np.dot(At,A)\n",
    "bt = np.dot(At,b)\n",
    "xsol = np.linalg.solve(M,bt)\n",
    "pWb = np.dot(A,xsol)\n",
    "\n",
    "print(pWb)\n",
    "\n",
    "#b)\n",
    "M = np.zeros((At.shape),dtype=np.float64)\n",
    "M[0] = At[0]\n",
    "for i in range(1,At.shape[0]):\n",
    "    M[i]=At[i]\n",
    "    for j in range(i):\n",
    "        M[i] = M[i] -(np.dot(At[i],M[j]))/(np.dot(M[j],M[j]))*M[j]\n",
    "v1 = M[0]\n",
    "v2 = M[1]\n",
    "v3 = M[2]\n",
    "\n",
    "pWb = np.dot(b,v1)*v1 + np.dot(b,v2)*v2 + np.dot(b,v3)*v3\n",
    "print(pWb)"
   ]
  },
  {
   "cell_type": "markdown",
   "metadata": {},
   "source": [
    "## Sección 9.7 Estimación de Parámetros\n",
    "\n",
    "1. Sea $\\mathscr{A}(x_1,x_2,...,x_n)$, donde $\\mathscr{A} \\sim \\mathscr{N}(\\mu,\\sigma)$ con parámetros $\\mu$ y $\\sigma$. Muestre que los estimadores verosímiles son:\n",
    "\n",
    "\\begin{align*}\n",
    "\\hat{\\mu} &= \\frac{1}{n} \\sum^n_{i=1}x_i \\\\\n",
    "\\hat{\\sigma}^2 &= \\frac{1}{n} \\sum^n_{i=1}(x_i-\\bar{x})^2\n",
    "\\end{align*}\n",
    "\n",
    "#### Parte 1. Estimador verosímil de $\\mu$\n",
    "\n",
    "Partimos de la función de verosimilitud, que da como resultado lo siguiente.\n",
    "\n",
    "\\begin{equation*}\n",
    "L(\\mu) = \\prod^n_{i=1} \\frac{1}{\\sqrt{2\\pi\\sigma^2}}e^{\\frac{1}{2\\sigma^2}(x_i-\\mu)^2}\n",
    "\\end{equation*}\n",
    "\n",
    "Simplificando esta función, obtenemos lo siguiente.\n",
    "\n",
    "\\begin{align*}\n",
    "L(\\mu) &= \\left(\\frac{1}{\\sqrt{2\\pi\\sigma^2}}\\right)^n e^{\\frac{-1}{2\\sigma^2}\\sum^n_{i=1}(x_i-\\mu)^2}\\\\\n",
    "L(\\mu) &= (2\\pi\\sigma^2)^{\\frac{-n}{2}} e^{\\frac{-1}{2\\sigma^2}\\sum^n_{i=1}(x_i-\\mu)^2}\\\\\n",
    "\\end{align*}\n",
    "\n",
    "Ahora tomando el logaritmo natural de la función de verosimilitud se obtiene lo siguiente.\n",
    "\n",
    "\\begin{align*}\n",
    "\\ln(L(\\mu)) &= \\ln(2\\pi\\sigma^2)^{\\frac{-n}{2}} + \\ln\\left(e^{\\frac{-1}{2\\sigma^2}\\sum^n_{i=1}(x_i-\\mu)^2}\\right)\\\\\n",
    "\\ln(L(\\mu)) &= \\frac{-n}{2}\\ln(2\\pi\\sigma^2) -\\frac{1}{2\\sigma^2}\\sum^n_{i=1}(x_i-\\mu)^2\\ln(e)\n",
    "\\end{align*}\n",
    "\n",
    "Al maximizar la función obtenida, el parámetro máximo verosímil para el parámetro $\\mu$ da como resultado lo siguiente.\n",
    "\n",
    "\\begin{align*}\n",
    "\\frac{\\partial\\ln(L(\\mu))}{\\partial\\mu} &= 0\\\\\n",
    "\\frac{2}{2\\sigma^2}\\sum^n_{i=1}(x_i-\\mu) &= 0\\\\\n",
    "\\sum^n_{i=1}x_i-\\sum^n_{i=0}\\mu&=0\\\\\n",
    "\\sum^n_{i=1}x_i-n\\mu&=0\n",
    "\\end{align*}\n",
    "\n",
    "De lo cual el estimador verosímil de $\\mu$ da como resultado la siguiente función.\n",
    "\n",
    "\\begin{equation*}\n",
    "\\hat{\\mu} = \\frac{1}{n}\\sum^n_{i=1}x_i\n",
    "\\end{equation*}\n",
    "\n",
    "#### Parte 2. Estimador verosímil de $\\sigma^2$\n",
    "\n",
    "Partimos de la función obtenida para el logaritmo natural de la función de verosimilitud. Al maximizar la función obtenida, el parámetro máximo verosímil para el parámetro $\\sigma^2$ da como resultado lo siguiente.\n",
    "\n",
    "\\begin{align*}\n",
    "\\frac{\\partial\\ln(L(\\sigma))}{\\partial\\sigma} &= 0\\\\\n",
    "\\frac{-n}{\\sigma} +\\frac{1}{\\sigma^3}\\sum^n_{i=1}(x_i-\\mu)^2 &= 0\\\\\n",
    "\\frac{1}{\\sigma^3}\\sum^n_{i=1}(x_i-\\mu)^2 &=\\frac{n}{\\sigma}\\\\\n",
    "\\frac{1}{n}\\sum^n_{i=1}(x_i-\\mu)^2 &=\\sigma^2\n",
    "\\end{align*}\n",
    "\n",
    "Teniendo en cuenta que el estimador verosímil de $\\mu$ es equivalente a la media muestral, el estimador verosímil de $\\sigma^2$ da como resultado la siguiente función.\n",
    "\n",
    "\\begin{equation*}\n",
    "\\hat{\\sigma}^2 = \\frac{1}{n}\\sum^n_{i=1}(x_i-\\bar{x})^2\n",
    "\\end{equation*}"
   ]
  }
 ],
 "metadata": {
  "kernelspec": {
   "display_name": "Python 3 (ipykernel)",
   "language": "python",
   "name": "python3"
  },
  "language_info": {
   "codemirror_mode": {
    "name": "ipython",
    "version": 3
   },
   "file_extension": ".py",
   "mimetype": "text/x-python",
   "name": "python",
   "nbconvert_exporter": "python",
   "pygments_lexer": "ipython3",
   "version": "3.9.7"
  }
 },
 "nbformat": 4,
 "nbformat_minor": 2
}
