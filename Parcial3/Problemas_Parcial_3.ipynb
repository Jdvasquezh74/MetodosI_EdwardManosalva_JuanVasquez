{
 "cells": [
  {
   "cell_type": "markdown",
   "metadata": {},
   "source": [
    "$\\textbf{5.}$\n",
    "\n",
    "$x_1 = b_1/A_{11}$\n",
    "\n",
    "$x_2 = (b_2 - A_{21}x_1)/A_{12}$\n",
    "\n",
    "$x_3 = (b_3-A_{3_1}x_1 - A_{32}x_2)/A_{33}$\n",
    "\n",
    "En general:\n",
    "\n",
    "$x_i = \\frac{b_i - \\sum_{j=i+1}^{n} A_{ij}x_j}{A_{ii}}$"
   ]
  },
  {
   "cell_type": "markdown",
   "metadata": {},
   "source": [
    "$\\textbf{7.}$"
   ]
  },
  {
   "cell_type": "code",
   "execution_count": 3,
   "metadata": {},
   "outputs": [
    {
     "name": "stdout",
     "output_type": "stream",
     "text": [
      "[[ 1.  0.  0.]\n",
      " [ 5.  1.  0.]\n",
      " [-2.  3.  1.]]\n",
      "[[ 4. -2.  1.]\n",
      " [ 0.  3.  7.]\n",
      " [ 0.  0. -2.]]\n"
     ]
    }
   ],
   "source": [
    "import numpy as np\n",
    "\n",
    "def LU(A):\n",
    "    n = len(A)\n",
    "    L = np.zeros((n, n))\n",
    "    U = np.zeros((n, n))\n",
    "\n",
    "    for i in range(n):\n",
    "        # Matriz L tiene unos en la diagonal\n",
    "        L[i][i] = 1\n",
    "\n",
    "        for k in range(i, n):\n",
    "            U[i][k] = A[i][k]\n",
    "            for j in range(i):\n",
    "                U[i][k] -= L[i][j] * U[j][k]\n",
    "\n",
    "        for k in range(i + 1, n):\n",
    "            L[k][i] = A[k][i]\n",
    "            for j in range(i):\n",
    "                L[k][i] -= L[k][j] * U[j][i]\n",
    "            L[k][i] /= U[i][i]\n",
    "\n",
    "    return L, U\n",
    "\n",
    "A = [[4, -2, 1], [20, -7, 12], [-8, 13, 17]]\n",
    "\n",
    "L, U = LU(A)\n",
    "\n",
    "print(L)\n",
    "print(U)"
   ]
  },
  {
   "cell_type": "markdown",
   "metadata": {},
   "source": [
    "$\\textbf{12.}$\n",
    "\n"
   ]
  },
  {
   "cell_type": "code",
   "execution_count": 10,
   "metadata": {},
   "outputs": [
    {
     "name": "stdout",
     "output_type": "stream",
     "text": [
      "57.663587915764225\n"
     ]
    }
   ],
   "source": [
    "def jacobiano(x, h):\n",
    "    n = len(x)\n",
    "    J = 0\n",
    "\n",
    "    for i in range(n):\n",
    "        x_plus_h = x.copy()\n",
    "        x_plus_h[i] += h\n",
    "        x_minus_h = x.copy()\n",
    "        x_minus_h[i] -= h\n",
    "\n",
    "        J += (f(x_plus_h) - f(x_minus_h)) / (2 * h)\n",
    "\n",
    "    return J\n",
    "\n",
    "def f(x):\n",
    "    return 60*x[2] + 3*np.e**(-x[0]*x[1]) + 10*np.pi - 3\n",
    "\n",
    "x = [0.5, 0.5, 0.5]\n",
    "h = 0.01\n",
    "\n",
    "print(jacobiano(x,h))\n"
   ]
  }
 ],
 "metadata": {
  "kernelspec": {
   "display_name": "Python 3",
   "language": "python",
   "name": "python3"
  },
  "language_info": {
   "codemirror_mode": {
    "name": "ipython",
    "version": 3
   },
   "file_extension": ".py",
   "mimetype": "text/x-python",
   "name": "python",
   "nbconvert_exporter": "python",
   "pygments_lexer": "ipython3",
   "version": "3.9.1"
  }
 },
 "nbformat": 4,
 "nbformat_minor": 2
}
