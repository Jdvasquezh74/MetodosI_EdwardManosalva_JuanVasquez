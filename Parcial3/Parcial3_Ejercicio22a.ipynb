{
 "cells": [
  {
   "cell_type": "markdown",
   "id": "f44768d2-3488-4d48-a329-71a51d87dfac",
   "metadata": {},
   "source": [
    "Punto 22 a)\n",
    "\n",
    "\\begin{equation}\n",
    "sen^6\\theta+Csen^2\\theta-C=0\n",
    "\\end{equation}\n",
    "\n",
    "\\begin{equation*}\n",
    "k = 8.988 \\times 10^9 \\frac{Nm^2}{C^2}, q = 3\\times 10^{-4} C,L= 5 m, w = 114.6 N,g = 10 \\frac{m}{s^2}\n",
    "\\end{equation*}\n",
    "\n",
    "\\begin{equation}\n",
    "tan \\theta sen^2\\theta = k \\frac{q^2}{4L^2 mg}(\\sqrt{2}+1/2)\n",
    "\\end{equation}"
   ]
  },
  {
   "cell_type": "code",
   "execution_count": 2,
   "id": "f36439e3-f037-4063-8f36-0045593e7723",
   "metadata": {
    "tags": []
   },
   "outputs": [
    {
     "data": {
      "text/plain": [
       "0.13511742014614697"
      ]
     },
     "execution_count": 2,
     "metadata": {},
     "output_type": "execute_result"
    }
   ],
   "source": [
    "import numpy as np\n",
    "\n",
    "k = 8.988*10**9\n",
    "q = 3*10**(-4)\n",
    "L = 5\n",
    "w = 114.6\n",
    "\n",
    "tDs2D = (k*q**2/(4*L**2*w))*(np.sqrt(2)+1/2)\n",
    "tDs2D"
   ]
  },
  {
   "cell_type": "code",
   "execution_count": 20,
   "id": "7a545a30-49a1-4d10-89a2-865823abcc21",
   "metadata": {
    "tags": []
   },
   "outputs": [
    {
     "data": {
      "text/plain": [
       "0.13542094754097034"
      ]
     },
     "execution_count": 20,
     "metadata": {},
     "output_type": "execute_result"
    }
   ],
   "source": [
    "np.tan(28.787)*(np.sin(28.787))**2"
   ]
  },
  {
   "cell_type": "code",
   "execution_count": 21,
   "id": "4856bc49-db44-4a6a-a69d-24ae7369f4d5",
   "metadata": {
    "tags": []
   },
   "outputs": [
    {
     "data": {
      "text/plain": [
       "-0.04143415645434283"
      ]
     },
     "execution_count": 21,
     "metadata": {},
     "output_type": "execute_result"
    }
   ],
   "source": [
    "C=729/10000\n",
    "np.sin(28.787)**6+C*np.sin(28.787)**2-C"
   ]
  },
  {
   "cell_type": "code",
   "execution_count": null,
   "id": "4bbfc7b3-8e6d-4f45-9912-04cd73f36771",
   "metadata": {},
   "outputs": [],
   "source": []
  }
 ],
 "metadata": {
  "kernelspec": {
   "display_name": "Python 3 (ipykernel)",
   "language": "python",
   "name": "python3"
  },
  "language_info": {
   "codemirror_mode": {
    "name": "ipython",
    "version": 3
   },
   "file_extension": ".py",
   "mimetype": "text/x-python",
   "name": "python",
   "nbconvert_exporter": "python",
   "pygments_lexer": "ipython3",
   "version": "3.7.7"
  }
 },
 "nbformat": 4,
 "nbformat_minor": 5
}
