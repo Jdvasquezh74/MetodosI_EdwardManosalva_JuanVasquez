{
 "cells": [
  {
   "cell_type": "markdown",
   "metadata": {},
   "source": [
    "Sobre cualquiera de las cuatro masas:\n",
    "\n",
    "$F_x = K \\frac{q^2}{x^2}$\n",
    "$F_y = K \\frac{q^2}{x^2}$\n",
    "\n",
    "La fuerza vista por la carga en la otra esquina:\n",
    "\n",
    "$F_esq = K \\frac{q^2}{2x^2}$\n",
    "\n",
    "La fuera total sobre la particula en el plano XY:\n",
    "\n",
    "$F_{xy} = \\sqrt{2} k \\frac{q^2}{x^2} + k \\frac{q^2}{2x^2}$\n",
    "\n",
    "$F_{xy} = k \\frac{q^2}{x^2} (\\sqrt{2} + 1/2)$\n",
    "\n",
    "Por otra parte, en Z:\n",
    "\n",
    "$F_{z} = -mg$\n",
    "\n",
    "Entonces:\n",
    "\n",
    "$\\theta = arctan \\left ( \\frac{k \\frac{q^2}{x^2}(\\sqrt{2}+1/2)}{mg} \\right )$"
   ]
  }
 ],
 "metadata": {
  "language_info": {
   "name": "python"
  }
 },
 "nbformat": 4,
 "nbformat_minor": 2
}
