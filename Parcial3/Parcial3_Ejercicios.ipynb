{
 "cells": [
  {
   "cell_type": "code",
   "execution_count": 1,
   "id": "ccb8d6e5-b100-43a8-98c7-7794e11c2028",
   "metadata": {
    "tags": []
   },
   "outputs": [
    {
     "name": "stdout",
     "output_type": "stream",
     "text": [
      "La matriz resultante de la multiplicación matricial es:\n",
      "C\n",
      " [[ 4. -2.  1.]\n",
      " [20. -7. 12.]\n",
      " [-8. 13. 21.]]\n"
     ]
    }
   ],
   "source": [
    "#Ejercicio 4\n",
    "import numpy as np\n",
    "\n",
    "def multiplicacion_matricial(A,B):\n",
    "    filasA = np.shape(A)[0]\n",
    "    columnasA = np.shape(A)[1]\n",
    "    filasB = np.shape(B)[0]\n",
    "    columnasB = np.shape(B)[1]\n",
    "    if columnasA !=  filasB:\n",
    "        print(\"Esta multiplicación es imposible!\")\n",
    "        print(\"El número de columnas de la matriz A y el número de filas de la matriz B debe ser igual!\") \n",
    "    else:\n",
    "        C = np.zeros((filasA, columnasB))\n",
    "        for i in range(filasA):\n",
    "            for j in range((columnasB)):\n",
    "                for k in range(columnasA):\n",
    "                    C[i][j] = C[i][j] + A[i][k]*B[k][j]\n",
    "        print(\"La matriz resultante de la multiplicación matricial es:\")\n",
    "        print(\"C\\n\",C)\n",
    "        \n",
    "A = np.array([[1,0,0],[5,1,0],[-2,3,1]])\n",
    "B = np.array([[4,-2,1],[0,3,7],[0,0,2]])\n",
    "multiplicacion_matricial(A,B)"
   ]
  },
  {
   "cell_type": "code",
   "execution_count": 9,
   "id": "2ee83740-ed97-4981-8549-f8f3fa2b0fe7",
   "metadata": {
    "tags": []
   },
   "outputs": [
    {
     "name": "stdout",
     "output_type": "stream",
     "text": [
      "Valor propio dominante: 1.0\n",
      "Vector propio asociado: [-0.40824829  0.40824829  0.81649658]\n"
     ]
    }
   ],
   "source": [
    "#Ejercicio 11\n",
    "\n",
    "import numpy as np\n",
    "from scipy.linalg import lu\n",
    "\n",
    "def inverse_power_method(A, tolerance, max_iterations):\n",
    "    n = A.shape[0]\n",
    "    v = np.random.rand(n)\n",
    "    I = np.identity(n)\n",
    "    \n",
    "    lambda_viejo = 0\n",
    "    \n",
    "    for i in range(max_iterations):\n",
    "        x = np.linalg.solve(A, v)\n",
    "        lambda_nuevo = np.dot(v, x)\n",
    "        if lambda_viejo == 0:\n",
    "            lambda_viejo = lambda_nuevo\n",
    "        v_nuevo = x / np.linalg.norm(x)\n",
    "        lambda_viejo = None\n",
    "        if lambda_viejo != None:\n",
    "            if np.abs(lambda_nuevo - lambda_viejo) < tolerance:\n",
    "                break\n",
    "\n",
    "        lambda_viejo = lambda_nuevo\n",
    "        v = v_nuevo\n",
    "\n",
    "    return lambda_nuevo, v_nuevo\n",
    "\n",
    "A = np.array([[1,2,-1], [1,0,1],[4,-4,5]])\n",
    "tolerance = 10**(-8)\n",
    "max_iterations = 100\n",
    "valor_propio_dominante, vector_propio_asociado = inverse_power_method(A, tolerance, max_iterations)\n",
    "\n",
    "print(\"Valor propio dominante:\", valor_propio_dominante)\n",
    "print(\"Vector propio asociado:\", vector_propio_asociado)"
   ]
  },
  {
   "cell_type": "code",
   "execution_count": null,
   "id": "f7e25a77-1f2a-43bc-940b-6e5eee08cf91",
   "metadata": {},
   "outputs": [],
   "source": [
    "#Ejercicio 15\n",
    "\n"
   ]
  },
  {
   "cell_type": "code",
   "execution_count": 11,
   "id": "a9a66604-035f-483f-89ac-5bbc69098c10",
   "metadata": {
    "tags": []
   },
   "outputs": [
    {
     "data": {
      "text/html": [
       "<style>.container { width:90% !important; }</style>"
      ],
      "text/plain": [
       "<IPython.core.display.HTML object>"
      ]
     },
     "metadata": {},
     "output_type": "display_data"
    },
    {
     "data": {
      "text/latex": [
       "$\\displaystyle \\left[\\begin{matrix}3 x^{2} - 3 y^{2} & - 6 x y\\\\6 x y & 3 x^{2} - 3 y^{2}\\end{matrix}\\right]$"
      ],
      "text/plain": [
       "Matrix([\n",
       "[3*x**2 - 3*y**2,          -6*x*y],\n",
       "[          6*x*y, 3*x**2 - 3*y**2]])"
      ]
     },
     "execution_count": 11,
     "metadata": {},
     "output_type": "execute_result"
    }
   ],
   "source": [
    "#Ejercicio 17\n",
    "\n",
    "\n",
    "from IPython.display import display, HTML\n",
    "display(HTML(\"<style>.container { width:90% !important; }</style>\"))\n",
    "import numpy as np\n",
    "import sympy as sym\n",
    "\n",
    "x = sym.Symbol('x',real=True)\n",
    "y = sym.Symbol('y',real=True)\n",
    "z = x + sym.I*y\n",
    "\n",
    "def f(z):\n",
    "    \n",
    "    f = z**3 - 1\n",
    "    f = f.expand()\n",
    "    return sym.re(f),sym.im(f)\n",
    "\n",
    "f0,f1 = f(z)\n",
    "F = [f0,f1]\n",
    "\n",
    "J = sym.zeros(2,2)\n",
    "\n",
    "for i in range(2):\n",
    "    for j in range(2):\n",
    "        if j==0:\n",
    "            J[i,j] = sym.diff(F[i],x,1)\n",
    "        else:\n",
    "            J[i,j] = sym.diff(F[i],y,1)\n",
    "\n",
    "J"
   ]
  },
  {
   "cell_type": "code",
   "execution_count": 15,
   "id": "f9ea04d9-c9b9-42b0-8555-5f4ac87eaa8c",
   "metadata": {
    "tags": []
   },
   "outputs": [
    {
     "name": "stdout",
     "output_type": "stream",
     "text": [
      "23\n"
     ]
    },
    {
     "data": {
      "text/plain": [
       "array([ 1.00000000e+00, -1.28666369e-25])"
      ]
     },
     "execution_count": 15,
     "metadata": {},
     "output_type": "execute_result"
    }
   ],
   "source": [
    "Fn = sym.lambdify([x,y],F,'numpy')\n",
    "InvJ = J.inv(method='LU')\n",
    "IJn = sym.lambdify([x,y],InvJ,'numpy')\n",
    "\n",
    "def NewtonRaphson(z,Fn,Jn,itmax=100,precision=1e-9):\n",
    "    \n",
    "    error = 1\n",
    "    it = 0\n",
    "    \n",
    "    while error > precision and it < itmax:\n",
    "        \n",
    "        IFn = Fn(z[0],z[1])\n",
    "        IJn = Jn(z[0],z[1])\n",
    "        \n",
    "        z1 = z - np.dot(IJn,IFn)\n",
    "        \n",
    "        error = np.max( np.abs(z1-z) )\n",
    "        \n",
    "        z = z1\n",
    "        it +=1\n",
    "        \n",
    "    print(it)\n",
    "    return z\n",
    "\n",
    "z0 = np.array([1,-2])\n",
    "zsol = NewtonRaphson(z0,Fn,IJn)\n",
    "zsol"
   ]
  },
  {
   "cell_type": "code",
   "execution_count": null,
   "id": "53cb2d35-327d-4af8-bcd5-99d30c1d1efc",
   "metadata": {},
   "outputs": [],
   "source": []
  }
 ],
 "metadata": {
  "kernelspec": {
   "display_name": "Python 3 (ipykernel)",
   "language": "python",
   "name": "python3"
  },
  "language_info": {
   "codemirror_mode": {
    "name": "ipython",
    "version": 3
   },
   "file_extension": ".py",
   "mimetype": "text/x-python",
   "name": "python",
   "nbconvert_exporter": "python",
   "pygments_lexer": "ipython3",
   "version": "3.7.7"
  }
 },
 "nbformat": 4,
 "nbformat_minor": 5
}
