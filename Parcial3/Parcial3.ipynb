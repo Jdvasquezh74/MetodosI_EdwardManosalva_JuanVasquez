{
 "cells": [
  {
   "cell_type": "markdown",
   "metadata": {},
   "source": [
    "$\\textbf{22.}$\n",
    "\n",
    "a)\n",
    "\n",
    "b)"
   ]
  },
  {
   "cell_type": "code",
   "execution_count": 42,
   "metadata": {},
   "outputs": [
    {
     "name": "stdout",
     "output_type": "stream",
     "text": [
      "[ 0.64350111  2.49809155 -0.64350111  3.78509376  5.6396842  13.20987172]\n"
     ]
    }
   ],
   "source": [
    "import numpy as np\n",
    "from scipy.optimize import fsolve\n",
    "\n",
    "c = 729/10000\n",
    "f = lambda x: (np.sin(x))**6 + c*(np.sin(x))**2 - c\n",
    "\n",
    "roots = fsolve(f, [1, 2, 3, 4, 5, 6])\n",
    "\n",
    "print(roots)\n",
    " \n"
   ]
  },
  {
   "cell_type": "code",
   "execution_count": 43,
   "metadata": {},
   "outputs": [
    {
     "name": "stdout",
     "output_type": "stream",
     "text": [
      "0.6000000004510203\n"
     ]
    }
   ],
   "source": [
    "print(np.sin(roots[0]))"
   ]
  },
  {
   "cell_type": "markdown",
   "metadata": {},
   "source": [
    "$\\textbf{23.}$\n",
    "\n",
    "a)\n",
    "\n",
    "Matriz de coeficientes:"
   ]
  },
  {
   "cell_type": "code",
   "execution_count": 5,
   "metadata": {},
   "outputs": [],
   "source": [
    "import numpy as np\n",
    "\n",
    "A = np.array([[0.2, 0.1, 1, 1, 0],\n",
    " [0.1, 4, -1, 1, -1],\n",
    " [1, -1, 60, 0, -2],\n",
    " [1, 1, 0, 8 ,4],\n",
    " [0, -1, -2, 4, 700]])"
   ]
  },
  {
   "cell_type": "markdown",
   "metadata": {},
   "source": [
    "Vector independiente:"
   ]
  },
  {
   "cell_type": "code",
   "execution_count": 6,
   "metadata": {},
   "outputs": [],
   "source": [
    "b = np.transpose([1, 2, 3, 4, 5])"
   ]
  },
  {
   "cell_type": "code",
   "execution_count": 29,
   "metadata": {},
   "outputs": [
    {
     "name": "stdout",
     "output_type": "stream",
     "text": [
      "5\n",
      "[ 7.85971308  0.42292641 -0.07359224 -0.54064302  0.01062614]\n"
     ]
    }
   ],
   "source": [
    "import numpy as np\n",
    "\n",
    "def gradiente_conjugado(A, b, x_0, e = 0.01):\n",
    "\n",
    "    r = np.dot(A,x_0) - b\n",
    "    p = -r\n",
    "    k = 0\n",
    "    x = x_0\n",
    "    while np.linalg.norm(r) > e:\n",
    "        q = np.dot(A,p)\n",
    "        a = (-np.dot(np.transpose(r),p))/(np.dot(np.transpose(p),q))\n",
    "        x = x + np.dot(a,p)\n",
    "        r = np.dot(A,x)-b\n",
    "        beta = (np.dot(np.transpose(r),q))/(np.dot(np.transpose(p),q))\n",
    "        p = -r + np.dot(beta,p)\n",
    "        k +=1\n",
    "    print(k)\n",
    "    return x\n",
    "\n",
    "x_0 = np.transpose([1,1,1,1,1])\n",
    "\n",
    "print(gradiente_conjugado(A,b,x_0))"
   ]
  },
  {
   "cell_type": "markdown",
   "metadata": {},
   "source": [
    "d)\n",
    "\n",
    "$r_k = -(Ax_k -b)$\n",
    "\n",
    "$r_k^T (Ax_k - b)= 0$\n",
    "\n",
    "$r_k^T (A(x_{k-1} -\\alpha_k r_k) - b) = 0$\n",
    "\n",
    "$r_k^T ((Ax_{k-1} - b) - \\alpha_k A r_{k-1}) = 0$\n",
    "\n",
    "$\\alpha_k r_k^T A r_k = r_k^T(Ax_k - b)$\n",
    "\n",
    "$\\alpha_k r_k^T A r_k = r_k^T r_k$ \n",
    "\n",
    "$\\alpha_k = \\frac{r_k^Tr_k}{r_k^TAr_k}$"
   ]
  }
 ],
 "metadata": {
  "kernelspec": {
   "display_name": "base",
   "language": "python",
   "name": "python3"
  },
  "language_info": {
   "codemirror_mode": {
    "name": "ipython",
    "version": 3
   },
   "file_extension": ".py",
   "mimetype": "text/x-python",
   "name": "python",
   "nbconvert_exporter": "python",
   "pygments_lexer": "ipython3",
   "version": "3.9.7"
  }
 },
 "nbformat": 4,
 "nbformat_minor": 2
}
